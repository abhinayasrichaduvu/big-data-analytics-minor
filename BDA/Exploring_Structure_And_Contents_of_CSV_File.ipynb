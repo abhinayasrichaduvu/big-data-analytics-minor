{
  "nbformat": 4,
  "nbformat_minor": 0,
  "metadata": {
    "colab": {
      "provenance": []
    },
    "kernelspec": {
      "name": "python3",
      "display_name": "Python 3"
    },
    "language_info": {
      "name": "python"
    }
  },
  "cells": [
    {
      "cell_type": "code",
      "execution_count": 1,
      "metadata": {
        "id": "mwRelfluHhnc"
      },
      "outputs": [],
      "source": [
        "from pyspark.sql import SparkSession\n",
        "from pyspark.sql.functions import col, avg, round, max\n",
        " # Initialize Spark Session\n",
        "spark = SparkSession.builder.appName(\"StudentsDataFrameExample\").getOrCreate()"
      ]
    },
    {
      "cell_type": "code",
      "source": [
        "# Step 1: Read CSV file into DataFrame\n",
        "df = spark.read.csv(\"students.csv\", header=True, inferSchema=True)"
      ],
      "metadata": {
        "id": "Fl4oy2iBIR9q"
      },
      "execution_count": 2,
      "outputs": []
    },
    {
      "cell_type": "code",
      "source": [
        "# Step 2: Explore dataset\n",
        "print(\"=== First 10 rows ===\")\n",
        "df.show(10)"
      ],
      "metadata": {
        "colab": {
          "base_uri": "https://localhost:8080/"
        },
        "id": "HHSS0VatIWUD",
        "outputId": "eee3513b-4490-4e8e-a0b2-1e27ab0da253"
      },
      "execution_count": 3,
      "outputs": [
        {
          "output_type": "stream",
          "name": "stdout",
          "text": [
            "=== First 10 rows ===\n",
            "+---+-------+---+------+----+-------+-------+\n",
            "| id|   name|age|gender|math|science|english|\n",
            "+---+-------+---+------+----+-------+-------+\n",
            "|  1|  Alice| 20|     F|  66|     92|     44|\n",
            "|  2|    Bob| 20|     M|  82|     52|     77|\n",
            "|  3|Charlie| 22|     F|  43|     57|     76|\n",
            "|  4|  David| 19|     M|  95|     69|     46|\n",
            "|  5|    Eva| 19|     F|  62|     44|     96|\n",
            "|  6|  Frank| 22|     F|  70|     78|     94|\n",
            "|  7|  Grace| 24|     F|  67|     66|     93|\n",
            "|  8|  Henry| 21|     F|  53|     82|     60|\n",
            "|  9|    Ivy| 19|     M|  64|     52|     46|\n",
            "| 10|   Jack| 19|     F|  44|     59|     60|\n",
            "+---+-------+---+------+----+-------+-------+\n",
            "only showing top 10 rows\n",
            "\n"
          ]
        }
      ]
    },
    {
      "cell_type": "code",
      "source": [
        "print(\"=== Schema ===\")\n",
        "df.printSchema()"
      ],
      "metadata": {
        "colab": {
          "base_uri": "https://localhost:8080/"
        },
        "id": "Tw4CAB8-IZ4P",
        "outputId": "18356c0e-6db6-4953-aac9-34f0e7cee6b4"
      },
      "execution_count": 4,
      "outputs": [
        {
          "output_type": "stream",
          "name": "stdout",
          "text": [
            "=== Schema ===\n",
            "root\n",
            " |-- id: integer (nullable = true)\n",
            " |-- name: string (nullable = true)\n",
            " |-- age: integer (nullable = true)\n",
            " |-- gender: string (nullable = true)\n",
            " |-- math: integer (nullable = true)\n",
            " |-- science: integer (nullable = true)\n",
            " |-- english: integer (nullable = true)\n",
            "\n"
          ]
        }
      ]
    },
    {
      "cell_type": "code",
      "source": [
        "print(\"=== Datatypes ===\")\n",
        "print(df.dtypes)"
      ],
      "metadata": {
        "colab": {
          "base_uri": "https://localhost:8080/"
        },
        "id": "mnC2zW6bIhbp",
        "outputId": "18d5f609-2160-4d0c-915d-3472334f5527"
      },
      "execution_count": 5,
      "outputs": [
        {
          "output_type": "stream",
          "name": "stdout",
          "text": [
            "=== Datatypes ===\n",
            "[('id', 'int'), ('name', 'string'), ('age', 'int'), ('gender', 'string'), ('math', 'int'), ('science', 'int'), ('english', 'int')]\n"
          ]
        }
      ]
    },
    {
      "cell_type": "code",
      "source": [
        "print(\"=== Summary statistics ===\")\n",
        "df.describe().show()"
      ],
      "metadata": {
        "colab": {
          "base_uri": "https://localhost:8080/"
        },
        "id": "VflY--_yIpmM",
        "outputId": "63436270-51a6-4fc8-c2e5-20302dace346"
      },
      "execution_count": 6,
      "outputs": [
        {
          "output_type": "stream",
          "name": "stdout",
          "text": [
            "=== Summary statistics ===\n",
            "+-------+------------------+-----+------------------+------+------------------+------------------+-----------------+\n",
            "|summary|                id| name|               age|gender|              math|           science|          english|\n",
            "+-------+------------------+-----+------------------+------+------------------+------------------+-----------------+\n",
            "|  count|                50|   50|                50|    50|                50|                50|               50|\n",
            "|   mean|              25.5| NULL|              21.5|  NULL|             68.94|             70.16|            69.36|\n",
            "| stddev|14.577379737113251| NULL|2.2337851101588404|  NULL|17.609610085034216|14.636214521186957|18.74507826560544|\n",
            "|    min|                 1|Aaron|                18|     F|                40|                44|               42|\n",
            "|    max|                50| Zoey|                25|     M|               100|                99|              100|\n",
            "+-------+------------------+-----+------------------+------+------------------+------------------+-----------------+\n",
            "\n"
          ]
        }
      ]
    },
    {
      "cell_type": "code",
      "source": [
        "print(\"Total rows:\", df.count())\n",
        "print(\"Columns:\", df.columns)"
      ],
      "metadata": {
        "colab": {
          "base_uri": "https://localhost:8080/"
        },
        "id": "JnFlrZf5Iyr0",
        "outputId": "a5174c1f-d130-4f86-908e-71fcdcea6c79"
      },
      "execution_count": 7,
      "outputs": [
        {
          "output_type": "stream",
          "name": "stdout",
          "text": [
            "Total rows: 50\n",
            "Columns: ['id', 'name', 'age', 'gender', 'math', 'science', 'english']\n"
          ]
        }
      ]
    },
    {
      "cell_type": "code",
      "source": [
        "# Step 3: Select specific columns\n",
        "print(\"\\n=== Select name, age, and math columns ===\")\n",
        "df.select(\"name\", \"age\", \"math\").show(10)"
      ],
      "metadata": {
        "colab": {
          "base_uri": "https://localhost:8080/"
        },
        "id": "QgV4vLyoI270",
        "outputId": "e20d2f72-09dd-4a77-83e2-15d2fac2dc08"
      },
      "execution_count": 8,
      "outputs": [
        {
          "output_type": "stream",
          "name": "stdout",
          "text": [
            "\n",
            "=== Select name, age, and math columns ===\n",
            "+-------+---+----+\n",
            "|   name|age|math|\n",
            "+-------+---+----+\n",
            "|  Alice| 20|  66|\n",
            "|    Bob| 20|  82|\n",
            "|Charlie| 22|  43|\n",
            "|  David| 19|  95|\n",
            "|    Eva| 19|  62|\n",
            "|  Frank| 22|  70|\n",
            "|  Grace| 24|  67|\n",
            "|  Henry| 21|  53|\n",
            "|    Ivy| 19|  64|\n",
            "|   Jack| 19|  44|\n",
            "+-------+---+----+\n",
            "only showing top 10 rows\n",
            "\n"
          ]
        }
      ]
    },
    {
      "cell_type": "code",
      "source": [
        "# Step 4: Filter students (age >= 21 and math >= 70)\n",
        "print(\"\\n=== Students with age >= 21 and math >= 70 ===\")\n",
        "df.filter((col(\"age\") >= 21) & (col(\"math\") >= 70)).show(10)"
      ],
      "metadata": {
        "colab": {
          "base_uri": "https://localhost:8080/"
        },
        "id": "1G9SYvkmI5tD",
        "outputId": "08eb81d8-290e-417e-f1e5-acde7dd7ec29"
      },
      "execution_count": 11,
      "outputs": [
        {
          "output_type": "stream",
          "name": "stdout",
          "text": [
            "\n",
            "=== Students with age >= 21 and math >= 70 ===\n",
            "+---+-------+---+------+----+-------+-------+\n",
            "| id|   name|age|gender|math|science|english|\n",
            "+---+-------+---+------+----+-------+-------+\n",
            "|  6|  Frank| 22|     F|  70|     78|     94|\n",
            "| 11|  Kathy| 25|     M|  85|     71|     89|\n",
            "| 12|    Leo| 24|     M|  97|     84|     83|\n",
            "| 14| Nathan| 23|     F|  71|     66|     60|\n",
            "| 22| Victor| 22|     M|  96|     75|     56|\n",
            "| 25|   Yara| 21|     F| 100|     62|     54|\n",
            "| 27|  Aaron| 25|     F|  81|     99|     44|\n",
            "| 30|  Diana| 21|     M|  78|     89|     45|\n",
            "| 35|    Ian| 21|     F|  72|     75|     70|\n",
            "| 36|Jasmine| 21|     F|  90|     58|     71|\n",
            "+---+-------+---+------+----+-------+-------+\n",
            "only showing top 10 rows\n",
            "\n"
          ]
        }
      ]
    },
    {
      "cell_type": "code",
      "source": [
        "# Step 5: Add a new column: average marks\n",
        "df_with_avg = df.withColumn(\"average\", round((col(\"math\") + col(\"science\") + col(\"english\")) / 3, 2))\n",
        "print(\"\\n=== Dataset with new column 'average' ===\")\n",
        "df_with_avg.show(10)"
      ],
      "metadata": {
        "colab": {
          "base_uri": "https://localhost:8080/"
        },
        "id": "3lhQtacZI9Rr",
        "outputId": "29f265c2-bbb9-4269-9b7e-ae1d9e93945f"
      },
      "execution_count": 12,
      "outputs": [
        {
          "output_type": "stream",
          "name": "stdout",
          "text": [
            "\n",
            "=== Dataset with new column 'average' ===\n",
            "+---+-------+---+------+----+-------+-------+-------+\n",
            "| id|   name|age|gender|math|science|english|average|\n",
            "+---+-------+---+------+----+-------+-------+-------+\n",
            "|  1|  Alice| 20|     F|  66|     92|     44|  67.33|\n",
            "|  2|    Bob| 20|     M|  82|     52|     77|  70.33|\n",
            "|  3|Charlie| 22|     F|  43|     57|     76|  58.67|\n",
            "|  4|  David| 19|     M|  95|     69|     46|   70.0|\n",
            "|  5|    Eva| 19|     F|  62|     44|     96|  67.33|\n",
            "|  6|  Frank| 22|     F|  70|     78|     94|  80.67|\n",
            "|  7|  Grace| 24|     F|  67|     66|     93|  75.33|\n",
            "|  8|  Henry| 21|     F|  53|     82|     60|   65.0|\n",
            "|  9|    Ivy| 19|     M|  64|     52|     46|   54.0|\n",
            "| 10|   Jack| 19|     F|  44|     59|     60|  54.33|\n",
            "+---+-------+---+------+----+-------+-------+-------+\n",
            "only showing top 10 rows\n",
            "\n"
          ]
        }
      ]
    },
    {
      "cell_type": "code",
      "source": [
        "# Step 6: Filter students with average >= 75 and sort descending\n",
        "print(\"\\n=== Students with average >= 75 (sorted) ===\")\n",
        "df_with_avg.filter(col(\"average\") >= 75).orderBy(col(\"average\").desc()).show(10)"
      ],
      "metadata": {
        "colab": {
          "base_uri": "https://localhost:8080/"
        },
        "id": "disGeBhNJJWE",
        "outputId": "1e7bfd95-ab96-4811-b891-022d92525d65"
      },
      "execution_count": 13,
      "outputs": [
        {
          "output_type": "stream",
          "name": "stdout",
          "text": [
            "\n",
            "=== Students with average >= 75 (sorted) ===\n",
            "+---+------+---+------+----+-------+-------+-------+\n",
            "| id|  name|age|gender|math|science|english|average|\n",
            "+---+------+---+------+----+-------+-------+-------+\n",
            "| 12|   Leo| 24|     M|  97|     84|     83|   88.0|\n",
            "| 15|Olivia| 18|     M|  87|     90|     87|   88.0|\n",
            "| 44|  Rita| 24|     M|  90|     82|     88|  86.67|\n",
            "| 11| Kathy| 25|     M|  85|     71|     89|  81.67|\n",
            "| 33|George| 22|     M|  66|     95|     84|  81.67|\n",
            "|  6| Frank| 22|     F|  70|     78|     94|  80.67|\n",
            "| 41| Oscar| 20|     M|  87|     72|     81|   80.0|\n",
            "| 21|   Uma| 19|     F|  89|     70|     76|  78.33|\n",
            "| 37|  Kyle| 21|     M|  57|     86|     92|  78.33|\n",
            "| 39|  Matt| 25|     M|  64|     71|    100|  78.33|\n",
            "+---+------+---+------+----+-------+-------+-------+\n",
            "only showing top 10 rows\n",
            "\n"
          ]
        }
      ]
    },
    {
      "cell_type": "code",
      "source": [
        "# Step 7: Group by gender and calculate average marks\n",
        "print(\"\\n=== Average marks by gender ===\")\n",
        "df_with_avg.groupBy(\"gender\").agg(\n",
        "    round(avg(\"math\"), 2).alias(\"avg_math\"),\n",
        "    round(avg(\"science\"), 2).alias(\"avg_science\"),\n",
        "    round(avg(\"english\"), 2).alias(\"avg_english\"),\n",
        "    round(avg(\"average\"), 2).alias(\"overall_avg\")\n",
        ").show()"
      ],
      "metadata": {
        "colab": {
          "base_uri": "https://localhost:8080/"
        },
        "id": "bHnC5d0WJOtI",
        "outputId": "8ff02f3e-a8a0-4ab0-baab-ed398f322bc4"
      },
      "execution_count": 14,
      "outputs": [
        {
          "output_type": "stream",
          "name": "stdout",
          "text": [
            "\n",
            "=== Average marks by gender ===\n",
            "+------+--------+-----------+-----------+-----------+\n",
            "|gender|avg_math|avg_science|avg_english|overall_avg|\n",
            "+------+--------+-----------+-----------+-----------+\n",
            "|     F|   63.86|      68.55|      70.55|      67.66|\n",
            "|     M|   75.95|      72.38|      67.71|      72.02|\n",
            "+------+--------+-----------+-----------+-----------+\n",
            "\n"
          ]
        }
      ]
    },
    {
      "cell_type": "code",
      "source": [],
      "metadata": {
        "id": "LhPSmOF4Jbjb"
      },
      "execution_count": null,
      "outputs": []
    }
  ]
}