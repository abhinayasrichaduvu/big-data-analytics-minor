{
  "nbformat": 4,
  "nbformat_minor": 0,
  "metadata": {
    "colab": {
      "provenance": []
    },
    "kernelspec": {
      "name": "python3",
      "display_name": "Python 3"
    },
    "language_info": {
      "name": "python"
    }
  },
  "cells": [
    {
      "cell_type": "code",
      "execution_count": 1,
      "metadata": {
        "id": "jeVfpYpVERBh"
      },
      "outputs": [],
      "source": [
        "from pyspark.sql import SparkSession\n",
        "# Step 1: Initialize Spark Session\n",
        "spark = SparkSession.builder.appName(\"SamplingExample\").getOrCreate()"
      ]
    },
    {
      "cell_type": "code",
      "source": [
        "# Step 2: Read CSV file into DataFrame\n",
        "df = spark.read.csv(\"students.csv\", header=True, inferSchema=True)"
      ],
      "metadata": {
        "id": "p0rex2VLF7_v"
      },
      "execution_count": 2,
      "outputs": []
    },
    {
      "cell_type": "code",
      "source": [
        "# === Sampling Demonstration (within 7 operations) ===\n",
        "# 1. View first 5 rows\n",
        "print(\"=== First 5 rows of dataset ===\")\n",
        "df.show(5)"
      ],
      "metadata": {
        "colab": {
          "base_uri": "https://localhost:8080/"
        },
        "id": "3evmJ3Y9GBB5",
        "outputId": "565c3c86-258d-43b7-f79c-17f88035de03"
      },
      "execution_count": 3,
      "outputs": [
        {
          "output_type": "stream",
          "name": "stdout",
          "text": [
            "=== First 5 rows of dataset ===\n",
            "+---+-------+---+------+----+-------+-------+\n",
            "| id|   name|age|gender|math|science|english|\n",
            "+---+-------+---+------+----+-------+-------+\n",
            "|  1|  Alice| 20|     F|  66|     92|     44|\n",
            "|  2|    Bob| 20|     M|  82|     52|     77|\n",
            "|  3|Charlie| 22|     F|  43|     57|     76|\n",
            "|  4|  David| 19|     M|  95|     69|     46|\n",
            "|  5|    Eva| 19|     F|  62|     44|     96|\n",
            "+---+-------+---+------+----+-------+-------+\n",
            "only showing top 5 rows\n",
            "\n"
          ]
        }
      ]
    },
    {
      "cell_type": "code",
      "source": [
        "# 2. Print schema\n",
        "print(\"=== Schema of dataset ===\")\n",
        "df.printSchema()"
      ],
      "metadata": {
        "colab": {
          "base_uri": "https://localhost:8080/"
        },
        "id": "Wqn4gDbXGJrL",
        "outputId": "406b5a3d-2d38-4b4d-989a-6375e6c0121b"
      },
      "execution_count": 4,
      "outputs": [
        {
          "output_type": "stream",
          "name": "stdout",
          "text": [
            "=== Schema of dataset ===\n",
            "root\n",
            " |-- id: integer (nullable = true)\n",
            " |-- name: string (nullable = true)\n",
            " |-- age: integer (nullable = true)\n",
            " |-- gender: string (nullable = true)\n",
            " |-- math: integer (nullable = true)\n",
            " |-- science: integer (nullable = true)\n",
            " |-- english: integer (nullable = true)\n",
            "\n"
          ]
        }
      ]
    },
    {
      "cell_type": "code",
      "source": [
        "# 3. Random sample without replacement (30% of data)\n",
        "print(\"=== Sample (30% without replacement) ===\")\n",
        "df.sample(withReplacement=False, fraction=0.3, seed=42).show(10)"
      ],
      "metadata": {
        "colab": {
          "base_uri": "https://localhost:8080/"
        },
        "id": "LdTAIguZGNIw",
        "outputId": "24999ef6-5b73-4ab0-a90a-97ae1d3541da"
      },
      "execution_count": 5,
      "outputs": [
        {
          "output_type": "stream",
          "name": "stdout",
          "text": [
            "=== Sample (30% without replacement) ===\n",
            "+---+------+---+------+----+-------+-------+\n",
            "| id|  name|age|gender|math|science|english|\n",
            "+---+------+---+------+----+-------+-------+\n",
            "|  4| David| 19|     M|  95|     69|     46|\n",
            "|  8| Henry| 21|     F|  53|     82|     60|\n",
            "| 17|Quincy| 18|     M|  65|     79|     54|\n",
            "| 19|   Sam| 18|     F|  76|     70|     65|\n",
            "| 27| Aaron| 25|     F|  81|     99|     44|\n",
            "| 28| Bella| 19|     F|  54|     76|     76|\n",
            "| 32| Fiona| 22|     F|  48|     96|     48|\n",
            "| 37|  Kyle| 21|     M|  57|     86|     92|\n",
            "| 39|  Matt| 25|     M|  64|     71|    100|\n",
            "| 41| Oscar| 20|     M|  87|     72|     81|\n",
            "+---+------+---+------+----+-------+-------+\n",
            "only showing top 10 rows\n",
            "\n"
          ]
        }
      ]
    },
    {
      "cell_type": "code",
      "source": [
        "# 4. Random sample with replacement (20% of data)\n",
        "print(\"=== Sample (20% with replacement) ===\")\n",
        "df.sample(withReplacement=True, fraction=0.2, seed=42).show(10)"
      ],
      "metadata": {
        "colab": {
          "base_uri": "https://localhost:8080/"
        },
        "id": "XdQYgamuGVpj",
        "outputId": "f9aebc7c-7280-4694-806a-03dcce951409"
      },
      "execution_count": 6,
      "outputs": [
        {
          "output_type": "stream",
          "name": "stdout",
          "text": [
            "=== Sample (20% with replacement) ===\n",
            "+---+------+---+------+----+-------+-------+\n",
            "| id|  name|age|gender|math|science|english|\n",
            "+---+------+---+------+----+-------+-------+\n",
            "|  6| Frank| 22|     F|  70|     78|     94|\n",
            "|  7| Grace| 24|     F|  67|     66|     93|\n",
            "| 14|Nathan| 23|     F|  71|     66|     60|\n",
            "| 17|Quincy| 18|     M|  65|     79|     54|\n",
            "| 21|   Uma| 19|     F|  89|     70|     76|\n",
            "| 22|Victor| 22|     M|  96|     75|     56|\n",
            "| 31| Ethan| 24|     M|  53|     57|     45|\n",
            "| 32| Fiona| 22|     F|  48|     96|     48|\n",
            "| 35|   Ian| 21|     F|  72|     75|     70|\n",
            "| 38| Laura| 23|     M|  84|     73|     56|\n",
            "+---+------+---+------+----+-------+-------+\n",
            "only showing top 10 rows\n",
            "\n"
          ]
        }
      ]
    },
    {
      "cell_type": "code",
      "source": [
        "# 5. Take a random sample of 5 rows using takeSample (without replacement)\n",
        "print(\"=== takeSample: 5 rows (without replacement) ===\")\n",
        "sampled_rows = df.rdd.takeSample(False, 5, seed=42)\n",
        "for row in sampled_rows:\n",
        "    print(row)"
      ],
      "metadata": {
        "colab": {
          "base_uri": "https://localhost:8080/"
        },
        "id": "d2gSIsKjGZRK",
        "outputId": "54addf1d-44c8-4a91-a051-ba2663b8dad1"
      },
      "execution_count": 8,
      "outputs": [
        {
          "output_type": "stream",
          "name": "stdout",
          "text": [
            "=== takeSample: 5 rows (without replacement) ===\n",
            "Row(id=35, name='Ian', age=21, gender='F', math=72, science=75, english=70)\n",
            "Row(id=26, name='Zoey', age=18, gender='M', math=42, science=48, english=42)\n",
            "Row(id=17, name='Quincy', age=18, gender='M', math=65, science=79, english=54)\n",
            "Row(id=43, name='Quinn', age=18, gender='F', math=56, science=60, english=87)\n",
            "Row(id=38, name='Laura', age=23, gender='M', math=84, science=73, english=56)\n"
          ]
        }
      ]
    },
    {
      "cell_type": "code",
      "source": [
        "# 6. Take a random sample of 5 rows using takeSample (with replacement)\n",
        "print(\"=== takeSample: 5 rows (with replacement) ===\")\n",
        "sampled_rows_wr = df.rdd.takeSample(True, 5, seed=42)\n",
        "for row in sampled_rows_wr:\n",
        "    print(row)"
      ],
      "metadata": {
        "colab": {
          "base_uri": "https://localhost:8080/"
        },
        "id": "ybhrdp3RGefy",
        "outputId": "6e7c0d99-78e2-4345-87cf-d5fee51cd548"
      },
      "execution_count": 10,
      "outputs": [
        {
          "output_type": "stream",
          "name": "stdout",
          "text": [
            "=== takeSample: 5 rows (with replacement) ===\n",
            "Row(id=47, name='Umar', age=21, gender='F', math=75, science=80, english=59)\n",
            "Row(id=17, name='Quincy', age=18, gender='M', math=65, science=79, english=54)\n",
            "Row(id=10, name='Jack', age=19, gender='F', math=44, science=59, english=60)\n",
            "Row(id=38, name='Laura', age=23, gender='M', math=84, science=73, english=56)\n",
            "Row(id=23, name='Wendy', age=24, gender='M', math=57, science=83, english=81)\n"
          ]
        }
      ]
    },
    {
      "cell_type": "code",
      "source": [
        "# 7. Count total rows (to compare with sampled data size)\n",
        "print(\"Total rows in dataset:\", df.count())"
      ],
      "metadata": {
        "colab": {
          "base_uri": "https://localhost:8080/"
        },
        "id": "7xexC50-Gjsa",
        "outputId": "177a61bf-149e-4a36-b601-acbe31fca0cd"
      },
      "execution_count": 11,
      "outputs": [
        {
          "output_type": "stream",
          "name": "stdout",
          "text": [
            "Total rows in dataset: 50\n"
          ]
        }
      ]
    },
    {
      "cell_type": "code",
      "source": [],
      "metadata": {
        "id": "brlT1wAVGqt3"
      },
      "execution_count": null,
      "outputs": []
    }
  ]
}