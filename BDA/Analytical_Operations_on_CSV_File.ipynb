{
  "nbformat": 4,
  "nbformat_minor": 0,
  "metadata": {
    "colab": {
      "provenance": []
    },
    "kernelspec": {
      "name": "python3",
      "display_name": "Python 3"
    },
    "language_info": {
      "name": "python"
    }
  },
  "cells": [
    {
      "cell_type": "code",
      "execution_count": 1,
      "metadata": {
        "id": "-npW-9RNMIGT"
      },
      "outputs": [],
      "source": [
        "from pyspark.sql import SparkSession\n",
        "from pyspark.sql.functions import col, avg, max, min, round, count\n",
        " # Step 1: Initialize Spark Session\n",
        "spark = SparkSession.builder.appName(\"StudentsAnalytics\").getOrCreate()"
      ]
    },
    {
      "cell_type": "code",
      "source": [
        "# Step 2: Read CSV file into DataFrame\n",
        "df = spark.read.csv(\"students.csv\", header=True, inferSchema=True)"
      ],
      "metadata": {
        "id": "qC-qOy63MuL_"
      },
      "execution_count": 2,
      "outputs": []
    },
    {
      "cell_type": "code",
      "source": [
        "# === Analytical Operations (10 max) ===\n",
        " # 1. View first 5 rows\n",
        "print(\"=== First 5 rows ===\")\n",
        "df.show(5)"
      ],
      "metadata": {
        "colab": {
          "base_uri": "https://localhost:8080/"
        },
        "id": "0lKJ2eldM0cE",
        "outputId": "7f3e0f36-ade8-4888-d417-8d3106bab705"
      },
      "execution_count": 3,
      "outputs": [
        {
          "output_type": "stream",
          "name": "stdout",
          "text": [
            "=== First 5 rows ===\n",
            "+---+-------+---+------+----+-------+-------+\n",
            "| id|   name|age|gender|math|science|english|\n",
            "+---+-------+---+------+----+-------+-------+\n",
            "|  1|  Alice| 20|     F|  66|     92|     44|\n",
            "|  2|    Bob| 20|     M|  82|     52|     77|\n",
            "|  3|Charlie| 22|     F|  43|     57|     76|\n",
            "|  4|  David| 19|     M|  95|     69|     46|\n",
            "|  5|    Eva| 19|     F|  62|     44|     96|\n",
            "+---+-------+---+------+----+-------+-------+\n",
            "only showing top 5 rows\n",
            "\n"
          ]
        }
      ]
    },
    {
      "cell_type": "code",
      "source": [
        "# 2. Print schema\n",
        "print(\"=== Schema ===\")\n",
        "df.printSchema()"
      ],
      "metadata": {
        "colab": {
          "base_uri": "https://localhost:8080/"
        },
        "id": "1Fx31KZ1M3yU",
        "outputId": "0b7314ec-ab3b-462c-9a20-c38616242aba"
      },
      "execution_count": 4,
      "outputs": [
        {
          "output_type": "stream",
          "name": "stdout",
          "text": [
            "=== Schema ===\n",
            "root\n",
            " |-- id: integer (nullable = true)\n",
            " |-- name: string (nullable = true)\n",
            " |-- age: integer (nullable = true)\n",
            " |-- gender: string (nullable = true)\n",
            " |-- math: integer (nullable = true)\n",
            " |-- science: integer (nullable = true)\n",
            " |-- english: integer (nullable = true)\n",
            "\n"
          ]
        }
      ]
    },
    {
      "cell_type": "code",
      "source": [
        "# 3. Count total rows\n",
        "print(\"Total rows:\", df.count())"
      ],
      "metadata": {
        "colab": {
          "base_uri": "https://localhost:8080/"
        },
        "id": "TDhhsRUpM70k",
        "outputId": "81411b55-7894-46e9-9176-cac926083464"
      },
      "execution_count": 5,
      "outputs": [
        {
          "output_type": "stream",
          "name": "stdout",
          "text": [
            "Total rows: 50\n"
          ]
        }
      ]
    },
    {
      "cell_type": "code",
      "source": [
        "\n",
        "# 4. Show summary statistics (numeric columns)\n",
        "print(\"=== Summary Statistics ===\")\n",
        "df.describe().show()"
      ],
      "metadata": {
        "colab": {
          "base_uri": "https://localhost:8080/"
        },
        "id": "KmSRRSD6M-mR",
        "outputId": "484d1d77-2c3f-4344-d07e-412bdd04e4ac"
      },
      "execution_count": 6,
      "outputs": [
        {
          "output_type": "stream",
          "name": "stdout",
          "text": [
            "=== Summary Statistics ===\n",
            "+-------+------------------+-----+------------------+------+------------------+------------------+-----------------+\n",
            "|summary|                id| name|               age|gender|              math|           science|          english|\n",
            "+-------+------------------+-----+------------------+------+------------------+------------------+-----------------+\n",
            "|  count|                50|   50|                50|    50|                50|                50|               50|\n",
            "|   mean|              25.5| NULL|              21.5|  NULL|             68.94|             70.16|            69.36|\n",
            "| stddev|14.577379737113251| NULL|2.2337851101588404|  NULL|17.609610085034216|14.636214521186957|18.74507826560544|\n",
            "|    min|                 1|Aaron|                18|     F|                40|                44|               42|\n",
            "|    max|                50| Zoey|                25|     M|               100|                99|              100|\n",
            "+-------+------------------+-----+------------------+------+------------------+------------------+-----------------+\n",
            "\n"
          ]
        }
      ]
    },
    {
      "cell_type": "code",
      "source": [
        "# 5. Select students with math >= 80\n",
        "print(\"=== Students with math >= 80 ===\")\n",
        "df.filter(col(\"math\") >= 80).select(\"id\", \"name\", \"math\").show(10)"
      ],
      "metadata": {
        "colab": {
          "base_uri": "https://localhost:8080/"
        },
        "id": "PNg2ylsHNHFi",
        "outputId": "94279c3a-619c-4f98-bdcc-db94885229c6"
      },
      "execution_count": 7,
      "outputs": [
        {
          "output_type": "stream",
          "name": "stdout",
          "text": [
            "=== Students with math >= 80 ===\n",
            "+---+------+----+\n",
            "| id|  name|math|\n",
            "+---+------+----+\n",
            "|  2|   Bob|  82|\n",
            "|  4| David|  95|\n",
            "| 11| Kathy|  85|\n",
            "| 12|   Leo|  97|\n",
            "| 15|Olivia|  87|\n",
            "| 20|  Tina| 100|\n",
            "| 21|   Uma|  89|\n",
            "| 22|Victor|  96|\n",
            "| 25|  Yara| 100|\n",
            "| 27| Aaron|  81|\n",
            "+---+------+----+\n",
            "only showing top 10 rows\n",
            "\n"
          ]
        }
      ]
    },
    {
      "cell_type": "code",
      "source": [
        "# 6. Calculate average marks per subject\n",
        "print(\"=== Average marks per subject ===\")\n",
        "df.select(\n",
        "     round(avg(\"math\"),2).alias(\"avg_math\"),\n",
        "     round(avg(\"science\"),2).alias(\"avg_science\"),\n",
        "    round(avg(\"english\"),2).alias(\"avg_english\")\n",
        ").show()"
      ],
      "metadata": {
        "colab": {
          "base_uri": "https://localhost:8080/"
        },
        "id": "i9xF5y1QNNAF",
        "outputId": "10a27994-bad4-44f4-b592-44a6bd117e51"
      },
      "execution_count": 8,
      "outputs": [
        {
          "output_type": "stream",
          "name": "stdout",
          "text": [
            "=== Average marks per subject ===\n",
            "+--------+-----------+-----------+\n",
            "|avg_math|avg_science|avg_english|\n",
            "+--------+-----------+-----------+\n",
            "|   68.94|      70.16|      69.36|\n",
            "+--------+-----------+-----------+\n",
            "\n"
          ]
        }
      ]
    },
    {
      "cell_type": "code",
      "source": [
        "# 7. Add new column: average marks\n",
        "df_with_avg = df.withColumn(\"average\", round((col(\"math\")+col(\"science\")+col(\"english\"))/3,2))\n",
        "print(\"=== Dataset with 'average' column ===\")\n",
        "df_with_avg.show(5)"
      ],
      "metadata": {
        "colab": {
          "base_uri": "https://localhost:8080/"
        },
        "id": "03zGxtn0NXbU",
        "outputId": "06d0f805-3184-4385-b388-aa6c771065e0"
      },
      "execution_count": 9,
      "outputs": [
        {
          "output_type": "stream",
          "name": "stdout",
          "text": [
            "=== Dataset with 'average' column ===\n",
            "+---+-------+---+------+----+-------+-------+-------+\n",
            "| id|   name|age|gender|math|science|english|average|\n",
            "+---+-------+---+------+----+-------+-------+-------+\n",
            "|  1|  Alice| 20|     F|  66|     92|     44|  67.33|\n",
            "|  2|    Bob| 20|     M|  82|     52|     77|  70.33|\n",
            "|  3|Charlie| 22|     F|  43|     57|     76|  58.67|\n",
            "|  4|  David| 19|     M|  95|     69|     46|   70.0|\n",
            "|  5|    Eva| 19|     F|  62|     44|     96|  67.33|\n",
            "+---+-------+---+------+----+-------+-------+-------+\n",
            "only showing top 5 rows\n",
            "\n"
          ]
        }
      ]
    },
    {
      "cell_type": "code",
      "source": [
        "# 8. Find topper (student with max average)\n",
        "print(\"=== Topper ===\")\n",
        "df_with_avg.orderBy(col(\"average\").desc()).limit(1).show()"
      ],
      "metadata": {
        "colab": {
          "base_uri": "https://localhost:8080/"
        },
        "id": "GfJ3ZoU6Nbim",
        "outputId": "410eeb9a-0022-4e8a-faa8-2b73201aae51"
      },
      "execution_count": 10,
      "outputs": [
        {
          "output_type": "stream",
          "name": "stdout",
          "text": [
            "=== Topper ===\n",
            "+---+----+---+------+----+-------+-------+-------+\n",
            "| id|name|age|gender|math|science|english|average|\n",
            "+---+----+---+------+----+-------+-------+-------+\n",
            "| 12| Leo| 24|     M|  97|     84|     83|   88.0|\n",
            "+---+----+---+------+----+-------+-------+-------+\n",
            "\n"
          ]
        }
      ]
    },
    {
      "cell_type": "code",
      "source": [
        "# 9. Group by gender → average marks\n",
        "print(\"=== Average marks by gender ===\")\n",
        "df_with_avg.groupBy(\"gender\").agg(\n",
        "    round(avg(\"math\"),2).alias(\"avg_math\"),\n",
        "    round(avg(\"science\"),2).alias(\"avg_science\"),\n",
        "    round(avg(\"english\"),2).alias(\"avg_english\"),\n",
        "    round(avg(\"average\"),2).alias(\"overall_avg\")\n",
        ").show()"
      ],
      "metadata": {
        "colab": {
          "base_uri": "https://localhost:8080/"
        },
        "id": "b4r9dflYNf8v",
        "outputId": "e102484b-3f42-4b09-b59b-2610a72c9b17"
      },
      "execution_count": 11,
      "outputs": [
        {
          "output_type": "stream",
          "name": "stdout",
          "text": [
            "=== Average marks by gender ===\n",
            "+------+--------+-----------+-----------+-----------+\n",
            "|gender|avg_math|avg_science|avg_english|overall_avg|\n",
            "+------+--------+-----------+-----------+-----------+\n",
            "|     F|   63.86|      68.55|      70.55|      67.66|\n",
            "|     M|   75.95|      72.38|      67.71|      72.02|\n",
            "+------+--------+-----------+-----------+-----------+\n",
            "\n"
          ]
        }
      ]
    },
    {
      "cell_type": "code",
      "source": [
        "# 10. Find min and max of each subject\n",
        "print(\"=== Min & Max of each subject ===\")\n",
        "df.select(\n",
        "   min(\"math\").alias(\"min_math\"), max(\"math\").alias(\"max_math\"),\n",
        "   min(\"science\").alias(\"min_science\"), max(\"science\").alias(\"max_science\"),\n",
        "   min(\"english\").alias(\"min_english\"), max(\"english\").alias(\"max_english\")\n",
        ").show()"
      ],
      "metadata": {
        "colab": {
          "base_uri": "https://localhost:8080/"
        },
        "id": "vEiqJu-4NnUT",
        "outputId": "5de7fbf8-d8aa-4c95-e414-3de1e72780fd"
      },
      "execution_count": 12,
      "outputs": [
        {
          "output_type": "stream",
          "name": "stdout",
          "text": [
            "=== Min & Max of each subject ===\n",
            "+--------+--------+-----------+-----------+-----------+-----------+\n",
            "|min_math|max_math|min_science|max_science|min_english|max_english|\n",
            "+--------+--------+-----------+-----------+-----------+-----------+\n",
            "|      40|     100|         44|         99|         42|        100|\n",
            "+--------+--------+-----------+-----------+-----------+-----------+\n",
            "\n"
          ]
        }
      ]
    },
    {
      "cell_type": "code",
      "source": [],
      "metadata": {
        "id": "eR-RLp8mNtr3"
      },
      "execution_count": null,
      "outputs": []
    }
  ]
}