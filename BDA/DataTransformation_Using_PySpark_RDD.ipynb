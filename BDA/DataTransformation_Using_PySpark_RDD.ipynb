{
  "nbformat": 4,
  "nbformat_minor": 0,
  "metadata": {
    "colab": {
      "provenance": []
    },
    "kernelspec": {
      "name": "python3",
      "display_name": "Python 3"
    },
    "language_info": {
      "name": "python"
    }
  },
  "cells": [
    {
      "cell_type": "code",
      "execution_count": 7,
      "metadata": {
        "id": "JZUBavEB__t-"
      },
      "outputs": [],
      "source": [
        "from pyspark import SparkContext\n",
        "import random\n",
        " # Step 1: Initialize SparkContext\n",
        "sc = SparkContext(\"local\", \"EvenNumberFilter\")"
      ]
    },
    {
      "cell_type": "code",
      "source": [
        "# Step 2: Generate 100 random integers between 1 and 1000\n",
        "random_numbers = [random.randint(1, 1000) for _ in range(100)]\n",
        "print(\"Original List:\")\n",
        "print(random_numbers)"
      ],
      "metadata": {
        "colab": {
          "base_uri": "https://localhost:8080/"
        },
        "id": "xBfB7TpTAayV",
        "outputId": "7aa0658f-9357-43aa-90c0-acadbabd4f2e"
      },
      "execution_count": 8,
      "outputs": [
        {
          "output_type": "stream",
          "name": "stdout",
          "text": [
            "Original List:\n",
            "[565, 360, 844, 410, 62, 657, 654, 268, 437, 659, 155, 337, 89, 556, 473, 807, 289, 592, 583, 957, 393, 486, 743, 734, 371, 712, 950, 248, 469, 648, 144, 431, 798, 669, 670, 563, 602, 476, 988, 281, 828, 418, 250, 326, 296, 788, 191, 597, 574, 213, 106, 426, 267, 96, 883, 270, 307, 796, 565, 67, 427, 211, 441, 81, 36, 867, 217, 327, 290, 673, 548, 127, 499, 297, 916, 332, 971, 867, 942, 577, 154, 217, 118, 358, 574, 851, 171, 463, 228, 363, 320, 480, 332, 278, 588, 158, 712, 930, 434, 22]\n"
          ]
        }
      ]
    },
    {
      "cell_type": "code",
      "source": [
        "# Step 3: Parallelize the list into an RDD\n",
        "numbers_rdd = sc.parallelize(random_numbers)"
      ],
      "metadata": {
        "id": "gaXubPTkBYXP"
      },
      "execution_count": 9,
      "outputs": []
    },
    {
      "cell_type": "code",
      "source": [
        "# Step 4: Filter only even numbers\n",
        "even_numbers_rdd = numbers_rdd.filter(lambda x: x % 2 == 0)"
      ],
      "metadata": {
        "id": "-FR_sakTBfNm"
      },
      "execution_count": 10,
      "outputs": []
    },
    {
      "cell_type": "code",
      "source": [
        "# Step 5: Collect results\n",
        "even_numbers = even_numbers_rdd.collect()\n",
        "print(\"\\nEven Numbers:\")\n",
        "print(even_numbers)"
      ],
      "metadata": {
        "colab": {
          "base_uri": "https://localhost:8080/"
        },
        "id": "EHMZHJaNBrZu",
        "outputId": "1a70d0e7-2ed3-42a4-d6b8-fafb7aeda1ef"
      },
      "execution_count": 11,
      "outputs": [
        {
          "output_type": "stream",
          "name": "stdout",
          "text": [
            "\n",
            "Even Numbers:\n",
            "[360, 844, 410, 62, 654, 268, 556, 592, 486, 734, 712, 950, 248, 648, 144, 798, 670, 602, 476, 988, 828, 418, 250, 326, 296, 788, 574, 106, 426, 96, 270, 796, 36, 290, 548, 916, 332, 942, 154, 118, 358, 574, 228, 320, 480, 332, 278, 588, 158, 712, 930, 434, 22]\n"
          ]
        }
      ]
    },
    {
      "cell_type": "code",
      "source": [],
      "metadata": {
        "id": "o4EG2qzcBwYK"
      },
      "execution_count": null,
      "outputs": []
    }
  ]
}