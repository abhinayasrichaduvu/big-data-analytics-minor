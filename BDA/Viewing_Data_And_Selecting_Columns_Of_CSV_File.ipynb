{
  "nbformat": 4,
  "nbformat_minor": 0,
  "metadata": {
    "colab": {
      "provenance": []
    },
    "kernelspec": {
      "name": "python3",
      "display_name": "Python 3"
    },
    "language_info": {
      "name": "python"
    }
  },
  "cells": [
    {
      "cell_type": "code",
      "execution_count": 1,
      "metadata": {
        "id": "Cd2KXoPKJsOU"
      },
      "outputs": [],
      "source": [
        "from pyspark.sql import SparkSession\n",
        " # Step 1: Initialize Spark Session\n",
        "spark = SparkSession.builder.appName(\"BasicDataFrameOps\").getOrCreate()"
      ]
    },
    {
      "cell_type": "code",
      "source": [
        "# Step 2: Read CSV file into DataFrame\n",
        "df = spark.read.csv(\"students.csv\", header=True, inferSchema=True)"
      ],
      "metadata": {
        "id": "UBqeOHFZKtQO"
      },
      "execution_count": 2,
      "outputs": []
    },
    {
      "cell_type": "code",
      "source": [
        "# === Basic Operations ===\n",
        "# 1. View first 5 rows\n",
        "print(\"=== First 5 rows ===\")\n",
        "df.show(5)"
      ],
      "metadata": {
        "colab": {
          "base_uri": "https://localhost:8080/"
        },
        "id": "SVKp1fS_K9wI",
        "outputId": "e409cea4-27ea-41e0-93d9-02585ecc0c9b"
      },
      "execution_count": 3,
      "outputs": [
        {
          "output_type": "stream",
          "name": "stdout",
          "text": [
            "=== First 5 rows ===\n",
            "+---+-------+---+------+----+-------+-------+\n",
            "| id|   name|age|gender|math|science|english|\n",
            "+---+-------+---+------+----+-------+-------+\n",
            "|  1|  Alice| 20|     F|  66|     92|     44|\n",
            "|  2|    Bob| 20|     M|  82|     52|     77|\n",
            "|  3|Charlie| 22|     F|  43|     57|     76|\n",
            "|  4|  David| 19|     M|  95|     69|     46|\n",
            "|  5|    Eva| 19|     F|  62|     44|     96|\n",
            "+---+-------+---+------+----+-------+-------+\n",
            "only showing top 5 rows\n",
            "\n"
          ]
        }
      ]
    },
    {
      "cell_type": "code",
      "source": [
        "# 2. Print schema (structure of DataFrame)\n",
        "print(\"=== Schema ===\")\n",
        "df.printSchema()"
      ],
      "metadata": {
        "colab": {
          "base_uri": "https://localhost:8080/"
        },
        "id": "yWQUiW_SLKv8",
        "outputId": "952ebe98-80ef-45a3-b401-0db1d9352959"
      },
      "execution_count": 4,
      "outputs": [
        {
          "output_type": "stream",
          "name": "stdout",
          "text": [
            "=== Schema ===\n",
            "root\n",
            " |-- id: integer (nullable = true)\n",
            " |-- name: string (nullable = true)\n",
            " |-- age: integer (nullable = true)\n",
            " |-- gender: string (nullable = true)\n",
            " |-- math: integer (nullable = true)\n",
            " |-- science: integer (nullable = true)\n",
            " |-- english: integer (nullable = true)\n",
            "\n"
          ]
        }
      ]
    },
    {
      "cell_type": "code",
      "source": [
        "# 3. Select specific columns: name and math\n",
        "print(\"=== Select name and math columns ===\")\n",
        "df.select(\"name\", \"math\").show(5)"
      ],
      "metadata": {
        "colab": {
          "base_uri": "https://localhost:8080/"
        },
        "id": "CiV1s3V2LOzp",
        "outputId": "bbc26122-f6ea-4f00-9de2-bd0a74ba32a8"
      },
      "execution_count": 5,
      "outputs": [
        {
          "output_type": "stream",
          "name": "stdout",
          "text": [
            "=== Select name and math columns ===\n",
            "+-------+----+\n",
            "|   name|math|\n",
            "+-------+----+\n",
            "|  Alice|  66|\n",
            "|    Bob|  82|\n",
            "|Charlie|  43|\n",
            "|  David|  95|\n",
            "|    Eva|  62|\n",
            "+-------+----+\n",
            "only showing top 5 rows\n",
            "\n"
          ]
        }
      ]
    },
    {
      "cell_type": "code",
      "source": [
        "# 4. Filter students with math >= 80\n",
        "print(\"=== Students with math >= 80 ===\")\n",
        "df.filter(df.math >= 80).show(5)"
      ],
      "metadata": {
        "colab": {
          "base_uri": "https://localhost:8080/"
        },
        "id": "_WzGf3n7LUEn",
        "outputId": "8fc73af4-34ac-4699-eacb-609c92029357"
      },
      "execution_count": 6,
      "outputs": [
        {
          "output_type": "stream",
          "name": "stdout",
          "text": [
            "=== Students with math >= 80 ===\n",
            "+---+------+---+------+----+-------+-------+\n",
            "| id|  name|age|gender|math|science|english|\n",
            "+---+------+---+------+----+-------+-------+\n",
            "|  2|   Bob| 20|     M|  82|     52|     77|\n",
            "|  4| David| 19|     M|  95|     69|     46|\n",
            "| 11| Kathy| 25|     M|  85|     71|     89|\n",
            "| 12|   Leo| 24|     M|  97|     84|     83|\n",
            "| 15|Olivia| 18|     M|  87|     90|     87|\n",
            "+---+------+---+------+----+-------+-------+\n",
            "only showing top 5 rows\n",
            "\n"
          ]
        }
      ]
    },
    {
      "cell_type": "code",
      "source": [
        "# 5. Sort students by science marks (descending)\n",
        "print(\"=== Sorted by science (desc) ===\")\n",
        "df.orderBy(df.science.desc()).show(5)"
      ],
      "metadata": {
        "colab": {
          "base_uri": "https://localhost:8080/"
        },
        "id": "XJV-oAquLXt3",
        "outputId": "04347097-cbb3-45fd-a2ea-927dfa4d60d8"
      },
      "execution_count": 7,
      "outputs": [
        {
          "output_type": "stream",
          "name": "stdout",
          "text": [
            "=== Sorted by science (desc) ===\n",
            "+---+------+---+------+----+-------+-------+\n",
            "| id|  name|age|gender|math|science|english|\n",
            "+---+------+---+------+----+-------+-------+\n",
            "| 27| Aaron| 25|     F|  81|     99|     44|\n",
            "| 32| Fiona| 22|     F|  48|     96|     48|\n",
            "| 33|George| 22|     M|  66|     95|     84|\n",
            "| 29|  Carl| 22|     F|  53|     92|     52|\n",
            "|  1| Alice| 20|     F|  66|     92|     44|\n",
            "+---+------+---+------+----+-------+-------+\n",
            "only showing top 5 rows\n",
            "\n"
          ]
        }
      ]
    },
    {
      "cell_type": "code",
      "source": [
        "# 6. Count total rows\n",
        "print(\"Total rows in dataset:\", df.count())"
      ],
      "metadata": {
        "colab": {
          "base_uri": "https://localhost:8080/"
        },
        "id": "4kSNV9nvLbUX",
        "outputId": "878ab841-06a2-4775-be64-d9a47682ae9f"
      },
      "execution_count": 8,
      "outputs": [
        {
          "output_type": "stream",
          "name": "stdout",
          "text": [
            "Total rows in dataset: 50\n"
          ]
        }
      ]
    },
    {
      "cell_type": "code",
      "source": [
        "# 7. Show column names\n",
        "print(\"Columns:\", df.columns)"
      ],
      "metadata": {
        "colab": {
          "base_uri": "https://localhost:8080/"
        },
        "id": "xzmH88cRLev0",
        "outputId": "a2e1e2f5-73ec-43cd-89d6-a5841ab2e486"
      },
      "execution_count": 9,
      "outputs": [
        {
          "output_type": "stream",
          "name": "stdout",
          "text": [
            "Columns: ['id', 'name', 'age', 'gender', 'math', 'science', 'english']\n"
          ]
        }
      ]
    },
    {
      "cell_type": "code",
      "source": [],
      "metadata": {
        "id": "MuDoAeEpLioM"
      },
      "execution_count": null,
      "outputs": []
    }
  ]
}