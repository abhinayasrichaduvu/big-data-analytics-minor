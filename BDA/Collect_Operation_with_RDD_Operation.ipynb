{
  "nbformat": 4,
  "nbformat_minor": 0,
  "metadata": {
    "colab": {
      "provenance": []
    },
    "kernelspec": {
      "name": "python3",
      "display_name": "Python 3"
    },
    "language_info": {
      "name": "python"
    }
  },
  "cells": [
    {
      "cell_type": "code",
      "source": [
        "from pyspark import SparkContext\n",
        "# Initialize SparkContext\n",
        "sc = SparkContext(\"local\", \"CSV_RDD_Example\")"
      ],
      "metadata": {
        "id": "IrqcIG3pDANE"
      },
      "execution_count": 3,
      "outputs": []
    },
    {
      "cell_type": "code",
      "source": [
        "# Load CSV file (assuming students.csv is in working directory)\n",
        "data = sc.textFile(\"students.csv\")"
      ],
      "metadata": {
        "id": "6lcWRjbGC6p4"
      },
      "execution_count": 4,
      "outputs": []
    },
    {
      "cell_type": "code",
      "source": [
        "# Step 1: Remove header\n",
        "header = data.first()\n",
        "rows = data.filter(lambda line: line != header)"
      ],
      "metadata": {
        "id": "-wR5zQM2DRr2"
      },
      "execution_count": 5,
      "outputs": []
    },
    {
      "cell_type": "code",
      "source": [
        "# Step 2: Split by comma\n",
        "split_rdd = rows.map(lambda line: line.split(\",\"))"
      ],
      "metadata": {
        "id": "k6gQSVU_DW1o"
      },
      "execution_count": 6,
      "outputs": []
    },
    {
      "cell_type": "code",
      "source": [
        "print(\"=== Student Dataset (first 10 rows) ===\")\n",
        "for row in split_rdd.take(10):   # you can change 10 → 20, 50 etc.\n",
        "    print(row)"
      ],
      "metadata": {
        "colab": {
          "base_uri": "https://localhost:8080/"
        },
        "id": "yBy4UZ8EDag4",
        "outputId": "1fe3a8c8-9f81-4d82-c6b1-adbfae24d346"
      },
      "execution_count": 7,
      "outputs": [
        {
          "output_type": "stream",
          "name": "stdout",
          "text": [
            "=== Student Dataset (first 10 rows) ===\n",
            "['1', 'Alice', '20', 'F', '66', '92', '44']\n",
            "['2', 'Bob', '20', 'M', '82', '52', '77']\n",
            "['3', 'Charlie', '22', 'F', '43', '57', '76']\n",
            "['4', 'David', '19', 'M', '95', '69', '46']\n",
            "['5', 'Eva', '19', 'F', '62', '44', '96']\n",
            "['6', 'Frank', '22', 'F', '70', '78', '94']\n",
            "['7', 'Grace', '24', 'F', '67', '66', '93']\n",
            "['8', 'Henry', '21', 'F', '53', '82', '60']\n",
            "['9', 'Ivy', '19', 'M', '64', '52', '46']\n",
            "['10', 'Jack', '19', 'F', '44', '59', '60']\n"
          ]
        }
      ]
    },
    {
      "cell_type": "code",
      "source": [
        " # Step 3: Convert fields into structured format\n",
        " # (id, name, age, gender, math, science, english)\n",
        "students_rdd = split_rdd.map(lambda x: (int(x[0]), x[1], int(x[2]), x[3], int(x[4]), int(x[5]), int(x[6])))"
      ],
      "metadata": {
        "id": "SGtOa-vGDeZv"
      },
      "execution_count": 8,
      "outputs": []
    },
    {
      "cell_type": "code",
      "source": [
        " # Step 4: Calculate average marks for each student\n",
        "avg_marks_rdd = students_rdd.map(lambda x: (x[1], (x[4] + x[5] + x[6]) / 3))"
      ],
      "metadata": {
        "id": "yngve3m_Dj2Y"
      },
      "execution_count": 9,
      "outputs": []
    },
    {
      "cell_type": "code",
      "source": [
        "# Step 5: Filter students who scored avg >= 75\n",
        "passed_rdd = avg_marks_rdd.filter(lambda x: x[1] >= 75)"
      ],
      "metadata": {
        "id": "6XkUeJ5XDqha"
      },
      "execution_count": 10,
      "outputs": []
    },
    {
      "cell_type": "code",
      "source": [
        "# Step 6: Sort students by avg marks (descending)\n",
        "sorted_passed_rdd = passed_rdd.sortBy(lambda x: x[1], ascending=False)"
      ],
      "metadata": {
        "id": "qIOqDDw6DtLO"
      },
      "execution_count": 11,
      "outputs": []
    },
    {
      "cell_type": "code",
      "source": [
        "# Step 7: Collect results to driver\n",
        "results = sorted_passed_rdd.collect()"
      ],
      "metadata": {
        "id": "7C3RfoWbDv52"
      },
      "execution_count": 12,
      "outputs": []
    },
    {
      "cell_type": "code",
      "source": [
        "# Print results\n",
        "print(\"=== Students with Average >= 75 ===\")\n",
        "for student in results:\n",
        "    print(f\"Name: {student[0]}, Avg Marks: {student[1]:.2f}\")"
      ],
      "metadata": {
        "colab": {
          "base_uri": "https://localhost:8080/"
        },
        "id": "FYzRa8tTDy_i",
        "outputId": "b09fc858-e447-44c7-ec63-3f60cc3e07c3"
      },
      "execution_count": 13,
      "outputs": [
        {
          "output_type": "stream",
          "name": "stdout",
          "text": [
            "=== Students with Average >= 75 ===\n",
            "Name: Leo, Avg Marks: 88.00\n",
            "Name: Olivia, Avg Marks: 88.00\n",
            "Name: Rita, Avg Marks: 86.67\n",
            "Name: Kathy, Avg Marks: 81.67\n",
            "Name: George, Avg Marks: 81.67\n",
            "Name: Frank, Avg Marks: 80.67\n",
            "Name: Oscar, Avg Marks: 80.00\n",
            "Name: Uma, Avg Marks: 78.33\n",
            "Name: Kyle, Avg Marks: 78.33\n",
            "Name: Matt, Avg Marks: 78.33\n",
            "Name: Tina, Avg Marks: 76.00\n",
            "Name: Victor, Avg Marks: 75.67\n",
            "Name: Grace, Avg Marks: 75.33\n",
            "Name: Mona, Avg Marks: 75.00\n",
            "Name: Will, Avg Marks: 75.00\n"
          ]
        }
      ]
    },
    {
      "cell_type": "code",
      "source": [
        "# Step 8: Some extra RDD operations for practice\n",
        "# (a) Count how many students passed\n",
        "count_passed = passed_rdd.count()\n",
        "print(\"\\nNumber of students who passed:\", count_passed)"
      ],
      "metadata": {
        "colab": {
          "base_uri": "https://localhost:8080/"
        },
        "id": "-71s3SUJD2N8",
        "outputId": "5a0fed84-47e4-4fe7-800f-7bd1e48af45b"
      },
      "execution_count": 14,
      "outputs": [
        {
          "output_type": "stream",
          "name": "stdout",
          "text": [
            "\n",
            "Number of students who passed: 15\n"
          ]
        }
      ]
    },
    {
      "cell_type": "code",
      "source": [
        "# (b) Find max average scorer\n",
        "topper = passed_rdd.reduce(lambda a, b: a if a[1] > b[1] else b)\n",
        "print(\"Topper:\", topper)"
      ],
      "metadata": {
        "colab": {
          "base_uri": "https://localhost:8080/"
        },
        "id": "WMb_95UrD648",
        "outputId": "87f92dff-f662-4441-8f93-1269679c59ae"
      },
      "execution_count": 15,
      "outputs": [
        {
          "output_type": "stream",
          "name": "stdout",
          "text": [
            "Topper: ('Olivia', 88.0)\n"
          ]
        }
      ]
    },
    {
      "cell_type": "code",
      "source": [
        "# (c) Show first 5 passed students\n",
        "print(\"\\nFirst 5 Passed Students (via take):\")\n",
        "print(passed_rdd.take(5))"
      ],
      "metadata": {
        "colab": {
          "base_uri": "https://localhost:8080/"
        },
        "id": "Loq6GE1BD-ba",
        "outputId": "64af6cbc-f2d7-43d4-ad17-9c6ccf59743f"
      },
      "execution_count": 16,
      "outputs": [
        {
          "output_type": "stream",
          "name": "stdout",
          "text": [
            "\n",
            "First 5 Passed Students (via take):\n",
            "[('Frank', 80.66666666666667), ('Grace', 75.33333333333333), ('Kathy', 81.66666666666667), ('Leo', 88.0), ('Mona', 75.0)]\n"
          ]
        }
      ]
    },
    {
      "cell_type": "code",
      "source": [],
      "metadata": {
        "id": "GHPhmBB1ECKd"
      },
      "execution_count": null,
      "outputs": []
    }
  ]
}